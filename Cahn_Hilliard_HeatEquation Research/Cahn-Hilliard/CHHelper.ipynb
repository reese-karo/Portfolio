{
 "cells": [
  {
   "cell_type": "markdown",
   "metadata": {},
   "source": [
    "### Look at pickled data"
   ]
  },
  {
   "cell_type": "code",
   "execution_count": null,
   "metadata": {},
   "outputs": [],
   "source": [
    "import CHReporter\n",
    "\n",
    "filename = 'OUT/ch_sancheck1H-1resbeta0p8.pkl'\n",
    "CHReporter.report_saved_data(filename)"
   ]
  },
  {
   "cell_type": "markdown",
   "metadata": {},
   "source": [
    "### Take a deep look into the saved data"
   ]
  },
  {
   "cell_type": "markdown",
   "metadata": {},
   "source": [
    "#### 1. Load packages and the file to look into"
   ]
  },
  {
   "cell_type": "code",
   "execution_count": null,
   "metadata": {},
   "outputs": [],
   "source": [
    "import torch as tc\n",
    "from CommonTools.fileio_tools import save, open_pickled_file\n",
    "import matplotlib.pyplot as plt\n",
    "CONST_rcParams = {'font.size' : 16,\n",
    "                }\n",
    "plt.rc('font', family='serif')\n",
    "plt.rcParams.update(CONST_rcParams)\n",
    "\n",
    "datanames = (\"ch_log\", \"ch_eqn_data\", \"ch_num_sol\", \"rep_par\")\n",
    "filenames = ['OUT/ch_sancheck1H-1resbeta0p9.pkl', \n",
    "             'OUT/ch_sancheck1H-1resbeta0p8.pkl',\n",
    "             'OUT/ch_sancheck1H-1resbeta0p7.pkl',\n",
    "             'OUT/ch_sancheck1H-1resbeta0p6.pkl',\n",
    "             'OUT/ch_sancheck1H-1resbeta0p5.pkl',\n",
    "             'OUT/ch_sancheck1H-1resbeta0p4.pkl',\n",
    "             'OUT/ch_sancheck1H-1resbeta0p3.pkl',\n",
    "             'OUT/ch_sancheck1H-1resbeta0p2.pkl']\n",
    "# numer of files\n",
    "Nfs = len(filenames)\n",
    "\n",
    "# open files\n",
    "file = [open_pickled_file(filenames[i]) for i in range(Nfs)]\n",
    "\n",
    "# unpack main data from each file\n",
    "# and pack them into a list (to use for-loop for repetitive tasks)\n",
    "ch_log = [file[i]['ch_log'] for i in range(Nfs)]\n",
    "ch_eqn_data = [file[i]['ch_eqn_data'] for i in range(Nfs)]\n",
    "ch_num_sol = [file[i]['ch_num_sol'] for i in range(Nfs)]\n",
    "rep_par = [file[i]['rep_par'] for i in range(Nfs)]\n",
    "\n",
    "# # take out data --> lools fine but leads to a weird error\n",
    "# for dataname in datanames:\n",
    "#     script = f\"{dataname} = [file[i]['{dataname}'] for i in range(Nfs)]\"\n",
    "#     eval(script)"
   ]
  },
  {
   "cell_type": "markdown",
   "metadata": {},
   "source": [
    "#### 2. Do what you want to do"
   ]
  },
  {
   "cell_type": "markdown",
   "metadata": {},
   "source": [
    "##### compare their numerical solutions"
   ]
  },
  {
   "cell_type": "code",
   "execution_count": null,
   "metadata": {},
   "outputs": [],
   "source": [
    "# compare their numerical solutions\n",
    "from CHSolver import plot_still_shot\n",
    "\n",
    "# create a figure\n",
    "fig, ax = plt.subplots()\n",
    "\n",
    "# take out some parameters\n",
    "Nsaves = rep_par[0]['Nsaves'] # number of saves\n",
    "print(Nsaves)\n",
    "\n",
    "# set index of time to look into: integer between 0 and Nsaves (inclusively)\n",
    "# set also reference and target solution to compare\n",
    "kk = 20\n",
    "sol_ref = 0\n",
    "sol_tar = 7\n",
    "\n",
    "\n",
    "#=== computer's job \n",
    "# find the difference of numerical solutions of reference (sol_ref) and target (sol_tar)\n",
    "sol_diff = ch_num_sol[sol_tar][kk] - ch_num_sol[sol_ref][kk]\n",
    "print(f\"Maximum difference: {tc.abs(tc.max(sol_diff)):.6f}\")\n",
    "plot_still_shot(fig, ax, ch_eqn_data[0], sol_diff, kk)"
   ]
  },
  {
   "cell_type": "markdown",
   "metadata": {},
   "source": [
    "##### which one leads to lower energy?"
   ]
  },
  {
   "cell_type": "code",
   "execution_count": null,
   "metadata": {},
   "outputs": [],
   "source": [
    "from CHReporter import plot_seq\n",
    "\n",
    "# create figure and axes\n",
    "fig, ax = plt.subplots(figsize=(12,6))\n",
    "\n",
    "# unpack some parameters to be used\n",
    "KK_saved = rep_par[0]['last_save_ind'] \n",
    "key = 'egy_out' \n",
    "\n",
    "\n",
    "#=== Computer's job\n",
    "# construct legend for each simulation\n",
    "axes_par = {'legend': [r\"$\\beta = \" + str(ch_eqn_data[i]['beta']) + \"$\" for i in range(Nfs)]}\n",
    "\n",
    "# collect energy decay from each simulation\n",
    "yys = [tc.tensor([ch_log[f][i][key] for i in range(KK_saved)]) for f in range(Nfs)]\n",
    "\n",
    "# plot them\n",
    "plot_seq(ax, yys, axes_par=axes_par)\n",
    "\n",
    "# also print numerical differences of them between the reference simulation (egy_ref) and the other\n",
    "egy_ref = 0\n",
    "for jj in range(Nfs):\n",
    "    print(\"energy with beta = \" + str(ch_eqn_data[jj]['beta'])  + \" relative to \" + str(ch_eqn_data[egy_ref]['beta']))\n",
    "    print(yys[jj] - yys[egy_ref])\n"
   ]
  },
  {
   "cell_type": "code",
   "execution_count": null,
   "metadata": {},
   "outputs": [],
   "source": []
  }
 ],
 "metadata": {
  "kernelspec": {
   "display_name": "ptrch",
   "language": "python",
   "name": "ptrch"
  },
  "language_info": {
   "codemirror_mode": {
    "name": "ipython",
    "version": 3
   },
   "file_extension": ".py",
   "mimetype": "text/x-python",
   "name": "python",
   "nbconvert_exporter": "python",
   "pygments_lexer": "ipython3",
   "version": "3.8.13"
  },
  "orig_nbformat": 4
 },
 "nbformat": 4,
 "nbformat_minor": 2
}
