{
 "cells": [
  {
   "cell_type": "code",
   "execution_count": 71,
   "metadata": {},
   "outputs": [],
   "source": [
    "import pandas as pd\n",
    "import os\n",
    "import matplotlib as plt\n",
    "import numpy as np"
   ]
  },
  {
   "cell_type": "code",
   "execution_count": null,
   "metadata": {},
   "outputs": [],
   "source": [
    "wd = os.getcwd()\n",
    "data = pd.read_csv(wd + \"/biomarker-raw.csv\")\n",
    "data.head() "
   ]
  },
  {
   "cell_type": "markdown",
   "metadata": {},
   "source": [
    "header gives protein full names, and the first row is abbreviations for protein names. Thus we need to only use the first 2 rows and skip the first two columns to get the protein names"
   ]
  },
  {
   "cell_type": "code",
   "execution_count": null,
   "metadata": {},
   "outputs": [],
   "source": [
    "\n",
    "protein_names = pd.read_csv(wd + \"/biomarker-raw.csv\",\n",
    "                        header=None,\n",
    "                        nrows=2,\n",
    "                        usecols=lambda x: x != 'empty') # this removes empty cols\n",
    "# transpose and drop na and reset index\n",
    "protein_names = protein_names.T.dropna().reset_index(drop=True)\n",
    "protein_names.columns = [\"name\", \"abbreviation\"]\n",
    "print(protein_names)\n"
   ]
  },
  {
   "cell_type": "code",
   "execution_count": 74,
   "metadata": {},
   "outputs": [],
   "source": [
    "def trim(x, at):\n",
    "    import numpy as np\n",
    "    x[np.abs(x) > at] = np.sign(x[np.abs(x) > at]) * at\n",
    "    return x"
   ]
  },
  {
   "cell_type": "code",
   "execution_count": null,
   "metadata": {},
   "outputs": [],
   "source": [
    "# read in the data with the protein names\n",
    "biomarker_data = pd.read_csv(wd + \"/biomarker-raw.csv\",\n",
    "                        header=None,\n",
    "                        skiprows=2, # first two rows are the protein names\n",
    "                        usecols=lambda x: x != 'empty', # remove empty cols\n",
    "                        na_values=['-', '']) # replace '-' and '' with NaN\n",
    "# change the column names\n",
    "biomarker_data.columns = ['group'] + protein_names['abbreviation'].tolist() + ['ados']\n",
    "# ensure no NA groups\n",
    "biomarker_data = biomarker_data.dropna(subset=['group'])\n",
    "biomarker_clean = biomarker_data.copy()\n",
    "\n",
    "# center and scale and trim any outliers\n",
    "for col in biomarker_clean.columns[2:-1]: # skip group, target, and ados\n",
    "    print(f\"Processing column: {col}\")\n",
    "    biomarker_clean[col] = biomarker_clean[col].astype(float)\n",
    "    biomarker_clean[col] = np.log10(biomarker_clean[col])\n",
    "    print(f\"After log transformation: {biomarker_clean[col].head()}\")\n",
    "    \n",
    "    biomarker_clean[col] = trim(biomarker_clean[col], 3)\n",
    "    print(f\"After trimming outliers: {biomarker_clean[col].head()}\")\n",
    "    \n",
    "    biomarker_clean[col] = (biomarker_clean[col] - biomarker_clean[col].mean()) / biomarker_clean[col].std()\n",
    "    print(f\"After centering and scaling: {biomarker_clean[col].head()}\")"
   ]
  },
  {
   "cell_type": "code",
   "execution_count": null,
   "metadata": {},
   "outputs": [],
   "source": [
    "biomarker_clean.head()"
   ]
  }
 ],
 "metadata": {
  "kernelspec": {
   "display_name": "Python 3",
   "language": "python",
   "name": "python3"
  },
  "language_info": {
   "codemirror_mode": {
    "name": "ipython",
    "version": 3
   },
   "file_extension": ".py",
   "mimetype": "text/x-python",
   "name": "python",
   "nbconvert_exporter": "python",
   "pygments_lexer": "ipython3",
   "version": "3.11.1"
  }
 },
 "nbformat": 4,
 "nbformat_minor": 2
}
